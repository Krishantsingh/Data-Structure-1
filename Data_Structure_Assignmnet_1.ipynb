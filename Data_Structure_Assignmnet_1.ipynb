{
  "nbformat": 4,
  "nbformat_minor": 0,
  "metadata": {
    "colab": {
      "provenance": [],
      "authorship_tag": "ABX9TyP8wIVnCKdq2QHH5JZKCEAR",
      "include_colab_link": true
    },
    "kernelspec": {
      "name": "python3",
      "display_name": "Python 3"
    },
    "language_info": {
      "name": "python"
    }
  },
  "cells": [
    {
      "cell_type": "markdown",
      "metadata": {
        "id": "view-in-github",
        "colab_type": "text"
      },
      "source": [
        "<a href=\"https://colab.research.google.com/github/Krishantsingh/Data-Structure-1/blob/main/Data_Structure_Assignmnet_1.ipynb\" target=\"_parent\"><img src=\"https://colab.research.google.com/assets/colab-badge.svg\" alt=\"Open In Colab\"/></a>"
      ]
    },
    {
      "cell_type": "markdown",
      "source": [
        "1. Discuss string slicing and provide example.\n",
        "\n",
        "   = String slicing is a technique in Python to access specific parts of a\n",
        "     string by defining start and end positions. It is helpful for extracting substrings, reversing strings, or manipulating data efficiently.\n",
        "\n",
        "     example"
      ],
      "metadata": {
        "id": "2NKFnhiFCSqV"
      }
    },
    {
      "cell_type": "code",
      "source": [
        "# Suppose a string\n",
        "s=\"ram,sita\"\n",
        "slice1=s[0:3]\n",
        "slice2=s[4:9]\n",
        "print(slice1)\n",
        "print(slice2)"
      ],
      "metadata": {
        "id": "LJnnhFgtDBN8",
        "colab": {
          "base_uri": "https://localhost:8080/"
        },
        "outputId": "b48e2ad1-f867-4f89-8708-c22f159bc185"
      },
      "execution_count": null,
      "outputs": [
        {
          "output_type": "stream",
          "name": "stdout",
          "text": [
            "ram\n",
            "sita\n"
          ]
        }
      ]
    },
    {
      "cell_type": "code",
      "source": [],
      "metadata": {
        "id": "aRN2nD94DYp1"
      },
      "execution_count": null,
      "outputs": []
    },
    {
      "cell_type": "markdown",
      "source": [
        "3. Describe how to access, modify, and delete elements in a list with examples.\n",
        "\n",
        " =The process of access, modify, and delete element in a list is given below,\n",
        "   \n",
        "  \n",
        "  "
      ],
      "metadata": {
        "id": "f0pzEnilDZRR"
      }
    },
    {
      "cell_type": "code",
      "source": [
        "#If a list\n",
        "l=[1,2,3,3.44,\"ram\"]\n",
        "#if i want to access '3.44' then\n",
        "l[3]"
      ],
      "metadata": {
        "colab": {
          "base_uri": "https://localhost:8080/"
        },
        "id": "nqIyh5HBD9Vk",
        "outputId": "34cad454-ba0f-4384-f40b-f420146de9c5"
      },
      "execution_count": null,
      "outputs": [
        {
          "output_type": "execute_result",
          "data": {
            "text/plain": [
              "3.44"
            ]
          },
          "metadata": {},
          "execution_count": 1
        }
      ]
    },
    {
      "cell_type": "code",
      "source": [
        "#if i want to modify '3' with \"sita\" then\n",
        "l[2]=\"sita\"\n",
        "l"
      ],
      "metadata": {
        "colab": {
          "base_uri": "https://localhost:8080/"
        },
        "id": "etuA5Vk2EvmU",
        "outputId": "48bbedb4-c51f-4d5c-b441-0b419d3393c1"
      },
      "execution_count": null,
      "outputs": [
        {
          "output_type": "execute_result",
          "data": {
            "text/plain": [
              "[1, 2, 'sita', 3.44, 'ram']"
            ]
          },
          "metadata": {},
          "execution_count": 2
        }
      ]
    },
    {
      "cell_type": "code",
      "source": [
        "# If a want to delete \"ram\" then\n",
        "del l[4]\n",
        "l"
      ],
      "metadata": {
        "colab": {
          "base_uri": "https://localhost:8080/"
        },
        "id": "b9XFh9Q2E8Q2",
        "outputId": "b34c81c9-ac7e-4d1e-8f8c-d5a3b18b1952"
      },
      "execution_count": null,
      "outputs": [
        {
          "output_type": "execute_result",
          "data": {
            "text/plain": [
              "[1, 2, 'sita', 3.44]"
            ]
          },
          "metadata": {},
          "execution_count": 4
        }
      ]
    },
    {
      "cell_type": "markdown",
      "source": [
        "2. Explain the key features of lists in Python.\n",
        "\n",
        "  = A type of data container which can store all kind of data. List is mutable\n",
        "  and it can store heterogenous data. Some major features of lists in python are as follow,\n",
        "   \n",
        "   i.   Lists are mutable\n",
        "\n",
        "   ii.  It can store heterogenous data\n",
        "\n",
        "   iii. The delement of list can be easily accessable\n",
        "\n",
        "   iv. It supports slicing of element\n",
        "\n",
        "   v.  It supports nesting etc.\n",
        "\n",
        "\n"
      ],
      "metadata": {
        "id": "uV58r8kYFxAC"
      }
    },
    {
      "cell_type": "markdown",
      "source": [
        "4. Compare and contrast tuples and lists with examples.\n",
        "\n",
        " =  i. Tuples\n",
        "  \n",
        "     -The data structure which can not be modified is called Tuples. Tuples are immutable.\n",
        "\n",
        "     example,\n"
      ],
      "metadata": {
        "id": "6U4Ac-6jH6Hk"
      }
    },
    {
      "cell_type": "code",
      "source": [
        "# suppose Tuple\n",
        "t=(1,2,3,4)\n",
        "# if i want to access '4' then,\n",
        "t[-1]"
      ],
      "metadata": {
        "colab": {
          "base_uri": "https://localhost:8080/"
        },
        "id": "wkWHZc47IzQm",
        "outputId": "38345459-934d-45c6-a6eb-bf9bf0a62d66"
      },
      "execution_count": null,
      "outputs": [
        {
          "output_type": "execute_result",
          "data": {
            "text/plain": [
              "4"
            ]
          },
          "metadata": {},
          "execution_count": 5
        }
      ]
    },
    {
      "cell_type": "code",
      "source": [
        "# if i want to modify '4' with '3', Then we can not do this because tuples are immutable\n",
        "t[-1]=3"
      ],
      "metadata": {
        "colab": {
          "base_uri": "https://localhost:8080/",
          "height": 158
        },
        "id": "v3CPr416JNxK",
        "outputId": "1d922350-e183-4ea5-f606-a791d7bc01b9"
      },
      "execution_count": null,
      "outputs": [
        {
          "output_type": "error",
          "ename": "TypeError",
          "evalue": "'tuple' object does not support item assignment",
          "traceback": [
            "\u001b[0;31m---------------------------------------------------------------------------\u001b[0m",
            "\u001b[0;31mTypeError\u001b[0m                                 Traceback (most recent call last)",
            "\u001b[0;32m<ipython-input-6-4a25f71b9044>\u001b[0m in \u001b[0;36m<cell line: 2>\u001b[0;34m()\u001b[0m\n\u001b[1;32m      1\u001b[0m \u001b[0;31m# if i want to modify '4' with '3', Then\u001b[0m\u001b[0;34m\u001b[0m\u001b[0;34m\u001b[0m\u001b[0m\n\u001b[0;32m----> 2\u001b[0;31m \u001b[0mt\u001b[0m\u001b[0;34m[\u001b[0m\u001b[0;34m-\u001b[0m\u001b[0;36m1\u001b[0m\u001b[0;34m]\u001b[0m\u001b[0;34m=\u001b[0m\u001b[0;36m3\u001b[0m\u001b[0;34m\u001b[0m\u001b[0;34m\u001b[0m\u001b[0m\n\u001b[0m",
            "\u001b[0;31mTypeError\u001b[0m: 'tuple' object does not support item assignment"
          ]
        }
      ]
    },
    {
      "cell_type": "markdown",
      "source": [
        "  ii. List\n",
        "   \n",
        "   - A type of data structure which can store all kind of data is known as list. List are mutable. we can easily access, modify the elements of a list.\n",
        "\n",
        "   example"
      ],
      "metadata": {
        "id": "69UPWvwaJ3sI"
      }
    },
    {
      "cell_type": "code",
      "source": [
        "# suppose a list\n",
        "l=[1,2,3,4,5,\"zx10r\"]\n",
        "#if i want to access '5'then\n",
        "l[-2]"
      ],
      "metadata": {
        "colab": {
          "base_uri": "https://localhost:8080/"
        },
        "id": "4m15xjKSKQsu",
        "outputId": "63d9c0fe-bbbb-4394-a9f5-d8a37b3b5f29"
      },
      "execution_count": null,
      "outputs": [
        {
          "output_type": "execute_result",
          "data": {
            "text/plain": [
              "5"
            ]
          },
          "metadata": {},
          "execution_count": 7
        }
      ]
    },
    {
      "cell_type": "code",
      "source": [
        "#if i want to modify '4' with \"BMW\" then\n",
        "l[-3]=\"BMW\"\n",
        "l"
      ],
      "metadata": {
        "colab": {
          "base_uri": "https://localhost:8080/"
        },
        "id": "UG2QbnkKKefV",
        "outputId": "5ce92ee4-ec5f-4650-c8de-d1bd8c0b570c"
      },
      "execution_count": null,
      "outputs": [
        {
          "output_type": "execute_result",
          "data": {
            "text/plain": [
              "[1, 2, 3, 'BMW', 5, 'zx10r']"
            ]
          },
          "metadata": {},
          "execution_count": 8
        }
      ]
    },
    {
      "cell_type": "markdown",
      "source": [
        "5. Describe the key features of sets and provide examples of their use.\n",
        "\n",
        "  = Sets are unordered collection of unique element. Some of its major features are as follow,"
      ],
      "metadata": {
        "id": "Y58TqFVeKxJj"
      }
    },
    {
      "cell_type": "code",
      "source": [
        "# sets are unordered collection of unique elements\n",
        "s={1,1,1,3,3,3,4,4,4,5,5,4,4}\n",
        "s"
      ],
      "metadata": {
        "colab": {
          "base_uri": "https://localhost:8080/"
        },
        "id": "leqtiKZKKsPp",
        "outputId": "50ee0447-30c4-43a2-8e3c-05520520b348"
      },
      "execution_count": null,
      "outputs": [
        {
          "output_type": "execute_result",
          "data": {
            "text/plain": [
              "{1, 3, 4, 5}"
            ]
          },
          "metadata": {},
          "execution_count": 9
        }
      ]
    },
    {
      "cell_type": "code",
      "source": [
        "# You can not access the elements of set\n",
        "s[2]"
      ],
      "metadata": {
        "colab": {
          "base_uri": "https://localhost:8080/",
          "height": 158
        },
        "id": "3d-VRN1RLYwg",
        "outputId": "1e16882a-b763-40e1-b84d-4ff7898c0fc4"
      },
      "execution_count": null,
      "outputs": [
        {
          "output_type": "error",
          "ename": "TypeError",
          "evalue": "'set' object is not subscriptable",
          "traceback": [
            "\u001b[0;31m---------------------------------------------------------------------------\u001b[0m",
            "\u001b[0;31mTypeError\u001b[0m                                 Traceback (most recent call last)",
            "\u001b[0;32m<ipython-input-10-46f3062bef3c>\u001b[0m in \u001b[0;36m<cell line: 2>\u001b[0;34m()\u001b[0m\n\u001b[1;32m      1\u001b[0m \u001b[0;31m# You can not access the elements of set\u001b[0m\u001b[0;34m\u001b[0m\u001b[0;34m\u001b[0m\u001b[0m\n\u001b[0;32m----> 2\u001b[0;31m \u001b[0ms\u001b[0m\u001b[0;34m[\u001b[0m\u001b[0;36m2\u001b[0m\u001b[0;34m]\u001b[0m\u001b[0;34m\u001b[0m\u001b[0;34m\u001b[0m\u001b[0m\n\u001b[0m",
            "\u001b[0;31mTypeError\u001b[0m: 'set' object is not subscriptable"
          ]
        }
      ]
    },
    {
      "cell_type": "code",
      "source": [
        "# You can add any element to set\n",
        "s.add(\"BMW\")\n",
        "s"
      ],
      "metadata": {
        "colab": {
          "base_uri": "https://localhost:8080/"
        },
        "id": "EkEAxhCnLi1u",
        "outputId": "43f5267a-1c23-413c-a814-ea6a9c890104"
      },
      "execution_count": null,
      "outputs": [
        {
          "output_type": "execute_result",
          "data": {
            "text/plain": [
              "{1, 3, 4, 5, 'BMW'}"
            ]
          },
          "metadata": {},
          "execution_count": 12
        }
      ]
    },
    {
      "cell_type": "code",
      "source": [
        "# You can remove any element of set\n",
        "s.remove(4)\n",
        "s"
      ],
      "metadata": {
        "colab": {
          "base_uri": "https://localhost:8080/"
        },
        "id": "Q9FKtkjBLtn5",
        "outputId": "fb7d52f4-5baa-4165-d280-50358543ffe0"
      },
      "execution_count": null,
      "outputs": [
        {
          "output_type": "execute_result",
          "data": {
            "text/plain": [
              "{1, 3, 5, 'BMW'}"
            ]
          },
          "metadata": {},
          "execution_count": 13
        }
      ]
    },
    {
      "cell_type": "markdown",
      "source": [
        "6. Discuss the use cases of tuples and sets in Python programming.\n",
        "  = Some major use cases of tuples in python programing are as follow,\n",
        "  \n",
        "   i.  it is used to store such type of data which can not be changed after they are created. Such as ATM number, bank account\n"
      ],
      "metadata": {
        "id": "9NF7KVw3MQN5"
      }
    },
    {
      "cell_type": "code",
      "source": [
        "# it is used to get maximum and minimum element form any data\n",
        "s=(1,2,3,4,5,6)\n",
        "max(s)"
      ],
      "metadata": {
        "colab": {
          "base_uri": "https://localhost:8080/"
        },
        "id": "DvWpZAXFNPi3",
        "outputId": "05a1754c-cf24-4783-a7f9-c281dabd800b"
      },
      "execution_count": null,
      "outputs": [
        {
          "output_type": "execute_result",
          "data": {
            "text/plain": [
              "6"
            ]
          },
          "metadata": {},
          "execution_count": 14
        }
      ]
    },
    {
      "cell_type": "code",
      "source": [
        "min(s)"
      ],
      "metadata": {
        "colab": {
          "base_uri": "https://localhost:8080/"
        },
        "id": "9L6Ip2z1NmOq",
        "outputId": "a6e69359-6aa1-4caa-d6e1-6eb26f9398b3"
      },
      "execution_count": null,
      "outputs": [
        {
          "output_type": "execute_result",
          "data": {
            "text/plain": [
              "1"
            ]
          },
          "metadata": {},
          "execution_count": 15
        }
      ]
    },
    {
      "cell_type": "code",
      "source": [
        "# tuples are immutable so it can be used as dictionary keys\n",
        "s={(1,2,3):\"num1\" ,  (4,5,6):\"num2\"}\n",
        "s"
      ],
      "metadata": {
        "colab": {
          "base_uri": "https://localhost:8080/"
        },
        "id": "ytkUpb4ONn-F",
        "outputId": "da94850c-a093-4d5d-a11d-7586318c22d4"
      },
      "execution_count": null,
      "outputs": [
        {
          "output_type": "execute_result",
          "data": {
            "text/plain": [
              "{(1, 2, 3): 'num1', (4, 5, 6): 'num2'}"
            ]
          },
          "metadata": {},
          "execution_count": 20
        }
      ]
    },
    {
      "cell_type": "markdown",
      "source": [
        "7. Describe how to add, modify, and delete items in a dictionary with example.\n",
        "\n",
        "  = The process of adding, modifying, and deleting itmes in a dictionary with example is given below,"
      ],
      "metadata": {
        "id": "cr81GvSWPSvG"
      }
    },
    {
      "cell_type": "code",
      "source": [
        "# suppose a dictionary\n",
        "d={\"ram\":15,\"sita\":14}\n",
        "#if i want to acces 15 then\n",
        "d['ram']"
      ],
      "metadata": {
        "colab": {
          "base_uri": "https://localhost:8080/"
        },
        "id": "pL9SFnjAPokw",
        "outputId": "5dc0de53-97c1-4534-ea24-1c639c35116f"
      },
      "execution_count": null,
      "outputs": [
        {
          "output_type": "execute_result",
          "data": {
            "text/plain": [
              "15"
            ]
          },
          "metadata": {},
          "execution_count": 23
        }
      ]
    },
    {
      "cell_type": "code",
      "source": [
        "# if i want to modify '15' with 50\n",
        "d['ram']=50\n",
        "d\n"
      ],
      "metadata": {
        "colab": {
          "base_uri": "https://localhost:8080/"
        },
        "id": "6DS-7wp0P3-x",
        "outputId": "b2082d72-344d-498f-ec64-6e1c70387062"
      },
      "execution_count": null,
      "outputs": [
        {
          "output_type": "execute_result",
          "data": {
            "text/plain": [
              "{'ram': 50, 'sita': 14}"
            ]
          },
          "metadata": {},
          "execution_count": 24
        }
      ]
    },
    {
      "cell_type": "code",
      "source": [
        "# if i want to delete '15'\n",
        "del d['ram']\n",
        "d"
      ],
      "metadata": {
        "colab": {
          "base_uri": "https://localhost:8080/"
        },
        "id": "RDlyZQ2rRCPs",
        "outputId": "0a65561a-4388-4fc2-d921-c811118ac303"
      },
      "execution_count": null,
      "outputs": [
        {
          "output_type": "execute_result",
          "data": {
            "text/plain": [
              "{'sita': 14}"
            ]
          },
          "metadata": {},
          "execution_count": 25
        }
      ]
    },
    {
      "cell_type": "markdown",
      "source": [
        "8. Discuss the importance of dictionary keys being immutable and provide examples.\n",
        "\n",
        " = String, number, tuples are major immutable keys of Dictionary. Some of its importance are as follow,\n",
        "\n",
        " i. It is important for creating fixed data and their values,\n",
        "\n",
        " ii. Data integrity and stability\n",
        "\n",
        " iii. Performace optimization\n",
        "\n",
        " iv. Hashing and consistency\n",
        "\n",
        " example,\n"
      ],
      "metadata": {
        "id": "5QAK-pvlRZym"
      }
    },
    {
      "cell_type": "code",
      "source": [
        "#Tuple as a key of dictionary\n",
        "d={(1,2,3):\"num1\",(4,5,6):\"num2\"}\n",
        "d"
      ],
      "metadata": {
        "colab": {
          "base_uri": "https://localhost:8080/"
        },
        "id": "bCRyF6ZzQFgB",
        "outputId": "67369314-a19f-417a-8905-262dadf0f4f7"
      },
      "execution_count": null,
      "outputs": [
        {
          "output_type": "execute_result",
          "data": {
            "text/plain": [
              "{(1, 2, 3): 'num1', (4, 5, 6): 'num2'}"
            ]
          },
          "metadata": {},
          "execution_count": 1
        }
      ]
    },
    {
      "cell_type": "code",
      "source": [
        "#string as a key\n",
        "d={\"ram\":\"num1\",\"sita\":\"num2\"}\n",
        "d"
      ],
      "metadata": {
        "colab": {
          "base_uri": "https://localhost:8080/"
        },
        "id": "SFj25TtVQcBj",
        "outputId": "90294dae-8b2a-4440-9089-a31f945a1b31"
      },
      "execution_count": null,
      "outputs": [
        {
          "output_type": "execute_result",
          "data": {
            "text/plain": [
              "{'ram': 'num1', 'sita': 'num2'}"
            ]
          },
          "metadata": {},
          "execution_count": 2
        }
      ]
    },
    {
      "cell_type": "code",
      "source": [
        "#integer as a key of dictionary\n",
        "d={4:\"num1\",7:\"num2\"}\n",
        "d"
      ],
      "metadata": {
        "colab": {
          "base_uri": "https://localhost:8080/"
        },
        "id": "unFjz1-6Qtkq",
        "outputId": "aadb7ee7-8f33-4770-c1a2-50fd5e6baf7a"
      },
      "execution_count": null,
      "outputs": [
        {
          "output_type": "execute_result",
          "data": {
            "text/plain": [
              "{4: 'num1', 7: 'num2'}"
            ]
          },
          "metadata": {},
          "execution_count": 4
        }
      ]
    },
    {
      "cell_type": "code",
      "source": [],
      "metadata": {
        "id": "0pZBOfhRXrnB"
      },
      "execution_count": null,
      "outputs": []
    }
  ]
}